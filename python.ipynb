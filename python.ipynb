{
 "cells": [
  {
   "cell_type": "code",
   "execution_count": 18,
   "metadata": {},
   "outputs": [
    {
     "data": {
      "text/latex": [
       "$\\displaystyle \\left[\\begin{matrix}0.334277620396601 & 0 & 0 & 0\\\\0 & 0.5 & 0 & 0\\\\0 & 0 & -0.285714285714286 & -1.28571428571429\\\\0 & 0 & 0 & 1\\end{matrix}\\right]$"
      ],
      "text/plain": [
       "Matrix([\n",
       "[0.334277620396601,   0,                  0,                 0],\n",
       "[                0, 0.5,                  0,                 0],\n",
       "[                0,   0, -0.285714285714286, -1.28571428571429],\n",
       "[                0,   0,                  0,                 1]])"
      ]
     },
     "execution_count": 18,
     "metadata": {},
     "output_type": "execute_result"
    }
   ],
   "source": [
    "import sympy\n",
    "m = sympy.Matrix([\n",
    "    [0.3342776203966006, 0, 0, 0],\n",
    "    [0, 0.5, 0, 0],\n",
    "    [0, 0, -0.2857142857142857, 0],\n",
    "    [-0, -0, -1.2857142857142856, 1]]\n",
    ")\n",
    "m.T\n"
   ]
  },
  {
   "cell_type": "code",
   "execution_count": null,
   "metadata": {},
   "outputs": [],
   "source": []
  }
 ],
 "metadata": {
  "kernelspec": {
   "display_name": "Python 3.9.13 ('base')",
   "language": "python",
   "name": "python3"
  },
  "language_info": {
   "codemirror_mode": {
    "name": "ipython",
    "version": 3
   },
   "file_extension": ".py",
   "mimetype": "text/x-python",
   "name": "python",
   "nbconvert_exporter": "python",
   "pygments_lexer": "ipython3",
   "version": "3.9.13"
  },
  "orig_nbformat": 4,
  "vscode": {
   "interpreter": {
    "hash": "40d3a090f54c6569ab1632332b64b2c03c39dcf918b08424e98f38b5ae0af88f"
   }
  }
 },
 "nbformat": 4,
 "nbformat_minor": 2
}
